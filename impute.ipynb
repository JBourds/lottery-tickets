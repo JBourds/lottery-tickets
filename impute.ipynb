{
 "cells": [
  {
   "cell_type": "code",
   "execution_count": null,
   "metadata": {},
   "outputs": [],
   "source": [
    "\"\"\"\n",
    "impute.ipynb\n",
    "\n",
    "Notebook for imputing/collecting/combining/splitting trials and experiment data.\n",
    "\n",
    "This is useful for being able to split experiment summaries into chunks which\n",
    "more easily fit within the available memory on the machine and perform\n",
    "training in batches.\n",
    "\n",
    "Author: Jordan Bourdeau\n",
    "Date Created: 5/1/24 \n",
    "\"\"\"\n",
    "\n",
    "import functools\n",
    "from importlib import reload\n",
    "import matplotlib.pyplot as plt\n",
    "import matplotlib.ticker as mtick\n",
    "import numpy as np\n",
    "from scipy.stats import norm\n",
    "import tensorflow as tf\n",
    "\n",
    "from src.harness import history\n",
    "from src.metrics import experiment_aggregations as e_agg\n",
    "from src.metrics import trial_aggregations as t_agg"
   ]
  },
  {
   "cell_type": "code",
   "execution_count": null,
   "metadata": {},
   "outputs": [],
   "source": [
    "# Constants and function declarations\n",
    "no_cached_fields: str = 'experiments/multiprocessing_lenet/experiment_summary.pkl'\n",
    "with_cached_fields: str = 'experiments/with_cached_fields/experiment_summary.pkl'\n",
    "experiment_summaries: list[str] = [\n",
    "    no_cached_fields, \n",
    "    with_cached_fields,\n",
    "]"
   ]
  },
  {
   "cell_type": "code",
   "execution_count": null,
   "metadata": {},
   "outputs": [],
   "source": [
    "experiment_summary = history.ExperimentSummary.load_from(no_cached_fields)\n",
    "experiment_summary.experiments.keys()"
   ]
  },
  {
   "cell_type": "code",
   "execution_count": null,
   "metadata": {},
   "outputs": [],
   "source": [
    "test_directory: str = 'experiments/testing/'\n",
    "\n",
    "# for seed, experiment in experiment_summary.experiments.items():\n",
    "#     for round in experiment.pruning_rounds:\n",
    "#         round.loss_before_training = -1\n",
    "#         round.loss_after_training = -1\n",
    "        \n",
    "experiment_summary.save_to(test_directory, 'adding_cached_fields.pkl')"
   ]
  }
 ],
 "metadata": {
  "kernelspec": {
   "display_name": "lottery-tickets",
   "language": "python",
   "name": "python3"
  },
  "language_info": {
   "codemirror_mode": {
    "name": "ipython",
    "version": 3
   },
   "file_extension": ".py",
   "mimetype": "text/x-python",
   "name": "python",
   "nbconvert_exporter": "python",
   "pygments_lexer": "ipython3",
   "version": "3.11.5"
  }
 },
 "nbformat": 4,
 "nbformat_minor": 2
}
