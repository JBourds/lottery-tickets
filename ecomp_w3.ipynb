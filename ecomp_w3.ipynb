{
 "cells": [
  {
   "cell_type": "code",
   "execution_count": null,
   "id": "6278b811-d488-4ff7-8a1d-23fd73d96c97",
   "metadata": {
    "tags": []
   },
   "outputs": [],
   "source": [
    "from src.harness import architecture as arch\n",
    "from src.harness import evolution as evo\n",
    "from src.harness import utils\n",
    "\n",
    "import copy\n",
    "from enum import Enum\n",
    "import functools\n",
    "from importlib import reload\n",
    "import itertools\n",
    "from matplotlib import pyplot as plt\n",
    "import multiprocess as mp\n",
    "import numpy as np\n",
    "import tensorflow as tf\n",
    "from tensorflow import keras\n",
    "from typing import Any, Callable, Dict, Iterable, List, Literal, Set, Tuple\n",
    "\n",
    "reload(arch)\n",
    "reload(evo)"
   ]
  },
  {
   "cell_type": "code",
   "execution_count": null,
   "id": "492ca0a2-4930-4486-b3f4-4fa10d0e996d",
   "metadata": {
    "tags": []
   },
   "outputs": [],
   "source": [
    "architecture = arch.Architecture(\"lenet\", \"mnist\")\n",
    "\n",
    "model_features = [\n",
    "    evo.ModelFeatures.layer_sparsity, \n",
    "    evo.ModelFeatures.magnitude,\n",
    "    evo.ModelFeatures.random,\n",
    "    functools.partial(evo.ModelFeatures.synaptic_flow, loss_fn=keras.losses.CategoricalCrossentropy()),\n",
    "]\n",
    "arch_feature_selectors = [\n",
    "    evo.ArchFeatures.layer_num,\n",
    "    evo.ArchFeatures.layer_ohe,\n",
    "    evo.ArchFeatures.layer_prop_params,\n",
    "]\n",
    "\n",
    "individual = evo.Individual(\"lenet\", \"mnist\", model_features, arch_feature_selectors, [])"
   ]
  },
  {
   "cell_type": "code",
   "execution_count": null,
   "id": "7f9c5a48-06c6-4c70-a5fc-1e285c39b820",
   "metadata": {
    "tags": []
   },
   "outputs": [],
   "source": [
    "num_runs = 3\n",
    "\n",
    "model_feature_selectors = [\n",
    "    evo.ModelFeatures.layer_sparsity, \n",
    "    evo.ModelFeatures.magnitude,\n",
    "    evo.ModelFeatures.random,\n",
    "    functools.partial(evo.ModelFeatures.synaptic_flow, loss_fn=keras.losses.CategoricalCrossentropy()),\n",
    "]\n",
    "arch_feature_selectors = [\n",
    "    evo.ArchFeatures.layer_num,\n",
    "    evo.ArchFeatures.layer_ohe,\n",
    "    evo.ArchFeatures.layer_prop_params,\n",
    "]\n",
    "\n",
    "layers = []\n",
    "\n",
    "individual_constructor = functools.partial(\n",
    "    evo.Individual, \n",
    "    architecture_name=\"lenet\",\n",
    "    dataset_name=\"mnist\",\n",
    "    model_feature_selectors=model_feature_selectors,\n",
    "    arch_feature_selectors=arch_feature_selectors,\n",
    "    layers=layers,\n",
    ")\n",
    "\n",
    "objectives = [\n",
    "    (evo.Target.MAXIMIZE, lambda x: 1, evo.Individual.eval_accuracy),\n",
    "    (evo.Target.MINIMIZE, lambda x: 1, evo.Individual.sparsity),\n",
    "]\n",
    "\n",
    "rate_func = lambda n: 0.5\n",
    "scale_func = lambda n: 1 / np.sqrt(n + 1)\n",
    "mutations = [\n",
    "    functools.partial(evo.Individual.get_annealing_mutate(), rate=rate_func, scale=scale_func),\n",
    "    evo.Individual.update_phenotype,\n",
    "]\n",
    "    \n",
    "genome_metric_callbacks = [\n",
    "]\n",
    "kwargs = {\n",
    "    \"num_generations\": 10,\n",
    "    \"archive_size\": 10,\n",
    "    \"population_size\": 10,\n",
    "    \"fronts_to_consider\": 2,\n",
    "    \"tournament_size\": 4,\n",
    "    \"num_tournament_winners\": 2,\n",
    "    \"individual_constructor\": individual_constructor,\n",
    "    \"objectives\": objectives,\n",
    "    \"mutations\": mutations,\n",
    "    \"crossover\": evo.Individual.crossover,\n",
    "    \"genome_metric_callbacks\": genome_metric_callbacks,\n",
    "}\n",
    "\n",
    "all_genome_metrics = []\n",
    "all_objective_metrics = []\n",
    "all_archives = []\n",
    "for run in range(num_runs):\n",
    "    print(f\"Run {run + 1}\")\n",
    "    genome_metrics, objective_metrics, archive = evo.nsga2(**kwargs)\n",
    "    all_genome_metrics.append(genome_metrics)\n",
    "    all_objective_metrics.append(objective_metrics)\n",
    "    all_archives.append(archive)"
   ]
  },
  {
   "cell_type": "code",
   "execution_count": null,
   "id": "c91e6e08-f138-45e0-a75b-86cc97e5d85d",
   "metadata": {
    "tags": []
   },
   "outputs": [],
   "source": [
    "all_objective_metrics"
   ]
  },
  {
   "cell_type": "code",
   "execution_count": null,
   "id": "f3e07cd4-57fc-4023-92c2-7dbfd80c5347",
   "metadata": {},
   "outputs": [],
   "source": []
  }
 ],
 "metadata": {
  "kernelspec": {
   "display_name": "lt",
   "language": "python",
   "name": "lt"
  },
  "language_info": {
   "codemirror_mode": {
    "name": "ipython",
    "version": 3
   },
   "file_extension": ".py",
   "mimetype": "text/x-python",
   "name": "python",
   "nbconvert_exporter": "python",
   "pygments_lexer": "ipython3",
   "version": "3.11.9"
  }
 },
 "nbformat": 4,
 "nbformat_minor": 5
}
