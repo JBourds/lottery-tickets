{
 "cells": [
  {
   "cell_type": "code",
   "execution_count": 170,
   "id": "6278b811-d488-4ff7-8a1d-23fd73d96c97",
   "metadata": {
    "tags": []
   },
   "outputs": [
    {
     "data": {
      "text/plain": [
       "<module 'src.harness.evolution' from '/gpfs1/home/j/b/jbourde2/lottery-tickets/src/harness/evolution.py'>"
      ]
     },
     "execution_count": 170,
     "metadata": {},
     "output_type": "execute_result"
    }
   ],
   "source": [
    "from src.harness import architecture as arch\n",
    "from src.harness import evolution as evo\n",
    "from src.harness import utils\n",
    "\n",
    "import copy\n",
    "from enum import Enum\n",
    "import functools\n",
    "from importlib import reload\n",
    "import itertools\n",
    "from matplotlib import pyplot as plt\n",
    "import multiprocess as mp\n",
    "import numpy as np\n",
    "import tensorflow as tf\n",
    "from tensorflow import keras\n",
    "from typing import Any, Callable, Dict, Iterable, List, Literal, Set, Tuple\n",
    "\n",
    "reload(arch)\n",
    "reload(evo)"
   ]
  },
  {
   "cell_type": "code",
   "execution_count": 171,
   "id": "492ca0a2-4930-4486-b3f4-4fa10d0e996d",
   "metadata": {
    "tags": []
   },
   "outputs": [
    {
     "name": "stdout",
     "output_type": "stream",
     "text": [
      "<class 'list'>\n",
      "[1.0,\n",
      " 0.064033195,\n",
      " 0.42257961579401015,\n",
      " 0.0,\n",
      " 1.0,\n",
      " 0.0,\n",
      " 0.0,\n",
      " 0.0,\n",
      " 0.8821874648362777]\n"
     ]
    }
   ],
   "source": [
    "model_features = [\n",
    "    evo.ModelFeatures.layer_sparsity, \n",
    "    evo.ModelFeatures.magnitude,\n",
    "    evo.ModelFeatures.random,\n",
    "]\n",
    "arch_features = [\n",
    "    evo.ArchFeatures.layer_num,\n",
    "    evo.ArchFeatures.layer_ohe,\n",
    "    evo.ArchFeatures.layer_prop_params,\n",
    "]\n",
    "\n",
    "individual = evo.Individual(\"lenet\", \"mnist\", model_features, arch_features, [])"
   ]
  },
  {
   "cell_type": "code",
   "execution_count": 11,
   "id": "7f9c5a48-06c6-4c70-a5fc-1e285c39b820",
   "metadata": {
    "tags": []
   },
   "outputs": [
    {
     "name": "stdout",
     "output_type": "stream",
     "text": [
      "Run 1\n",
      "Generation 1\n"
     ]
    },
    {
     "name": "stderr",
     "output_type": "stream",
     "text": [
      "WARNING: All log messages before absl::InitializeLog() is called are written to STDERR\n",
      "I0000 00:00:1731597992.527764   49363 service.cc:146] XLA service 0x2b5fe00026b0 initialized for platform CUDA (this does not guarantee that XLA will be used). Devices:\n",
      "I0000 00:00:1731597992.527910   49363 service.cc:154]   StreamExecutor device (0): Tesla V100-SXM2-32GB, Compute Capability 7.0\n",
      "2024-11-14 10:26:32.560267: I tensorflow/compiler/mlir/tensorflow/utils/dump_mlir_util.cc:268] disabling MLIR crash reproducer, set env var `MLIR_CRASH_REPRODUCER_DIRECTORY` to enable.\n",
      "2024-11-14 10:26:32.676797: I external/local_xla/xla/stream_executor/cuda/cuda_dnn.cc:531] Loaded cuDNN version 8906\n",
      "I0000 00:00:1731597993.591124   49363 device_compiler.h:188] Compiled cluster using XLA!  This line is logged at most once for the lifetime of the process.\n"
     ]
    },
    {
     "name": "stdout",
     "output_type": "stream",
     "text": [
      "WARNING:tensorflow:5 out of the last 5 calls to <function TensorFlowTrainer.make_test_function.<locals>.one_step_on_iterator at 0x2b6802bc2e80> triggered tf.function retracing. Tracing is expensive and the excessive number of tracings could be due to (1) creating @tf.function repeatedly in a loop, (2) passing tensors with different shapes, (3) passing Python objects instead of tensors. For (1), please define your @tf.function outside of the loop. For (2), @tf.function has reduce_retracing=True option that can avoid unnecessary retracing. For (3), please refer to https://www.tensorflow.org/guide/function#controlling_retracing and https://www.tensorflow.org/api_docs/python/tf/function for  more details.\n",
      "WARNING:tensorflow:6 out of the last 6 calls to <function TensorFlowTrainer.make_test_function.<locals>.one_step_on_iterator at 0x2b67e61d4900> triggered tf.function retracing. Tracing is expensive and the excessive number of tracings could be due to (1) creating @tf.function repeatedly in a loop, (2) passing tensors with different shapes, (3) passing Python objects instead of tensors. For (1), please define your @tf.function outside of the loop. For (2), @tf.function has reduce_retracing=True option that can avoid unnecessary retracing. For (3), please refer to https://www.tensorflow.org/guide/function#controlling_retracing and https://www.tensorflow.org/api_docs/python/tf/function for  more details.\n",
      "Selection with 2 fronts and 2 sparsities\n"
     ]
    },
    {
     "name": "stderr",
     "output_type": "stream",
     "text": [
      "/users/j/b/jbourde2/.conda/envs/lt/lib/python3.11/site-packages/keras/src/saving/saving_lib.py:713: UserWarning: Skipping variable loading for optimizer 'rmsprop', because it has 6 variables whereas the saved optimizer has 2 variables. \n",
      "  saveable.load_own_variables(weights_store.get(inner_path))\n"
     ]
    },
    {
     "name": "stdout",
     "output_type": "stream",
     "text": [
      "Generation 2\n",
      "Selection with 2 fronts and 2 sparsities\n"
     ]
    },
    {
     "ename": "KeyboardInterrupt",
     "evalue": "",
     "output_type": "error",
     "traceback": [
      "\u001b[0;31m---------------------------------------------------------------------------\u001b[0m",
      "\u001b[0;31mKeyboardInterrupt\u001b[0m                         Traceback (most recent call last)",
      "Cell \u001b[0;32mIn[11], line 52\u001b[0m\n\u001b[1;32m     50\u001b[0m \u001b[38;5;28;01mfor\u001b[39;00m run \u001b[38;5;129;01min\u001b[39;00m \u001b[38;5;28mrange\u001b[39m(num_runs):\n\u001b[1;32m     51\u001b[0m     \u001b[38;5;28mprint\u001b[39m(\u001b[38;5;124mf\u001b[39m\u001b[38;5;124m\"\u001b[39m\u001b[38;5;124mRun \u001b[39m\u001b[38;5;132;01m{\u001b[39;00mrun\u001b[38;5;250m \u001b[39m\u001b[38;5;241m+\u001b[39m\u001b[38;5;250m \u001b[39m\u001b[38;5;241m1\u001b[39m\u001b[38;5;132;01m}\u001b[39;00m\u001b[38;5;124m\"\u001b[39m)\n\u001b[0;32m---> 52\u001b[0m     genome_metrics, objective_metrics, archive \u001b[38;5;241m=\u001b[39m evo\u001b[38;5;241m.\u001b[39mnsga2(\u001b[38;5;241m*\u001b[39m\u001b[38;5;241m*\u001b[39mkwargs)\n\u001b[1;32m     53\u001b[0m     all_genome_metrics\u001b[38;5;241m.\u001b[39mappend(genome_metrics)\n\u001b[1;32m     54\u001b[0m     all_objective_metrics\u001b[38;5;241m.\u001b[39mappend(objective_metrics)\n",
      "File \u001b[0;32m/gpfs1/home/j/b/jbourde2/lottery-tickets/src/harness/evolution.py:415\u001b[0m, in \u001b[0;36mnsga2\u001b[0;34m(num_generations, archive_size, population_size, fronts_to_consider, tournament_size, num_tournament_winners, individual_constructor, objectives, crossover, mutations, genome_metric_callbacks)\u001b[0m\n\u001b[1;32m    413\u001b[0m \u001b[38;5;66;03m# Callbacks to gather data during training process\u001b[39;00m\n\u001b[1;32m    414\u001b[0m \u001b[38;5;28;01mfor\u001b[39;00m callback \u001b[38;5;129;01min\u001b[39;00m genome_metric_callbacks:\n\u001b[0;32m--> 415\u001b[0m     callback(genome_metrics, population)\n\u001b[1;32m    416\u001b[0m \u001b[38;5;28;01mfor\u001b[39;00m obj_index, (_, range_func, fitness_func) \u001b[38;5;129;01min\u001b[39;00m \u001b[38;5;28menumerate\u001b[39m(objectives):\n\u001b[1;32m    417\u001b[0m     objective_metrics[\u001b[38;5;124mf\u001b[39m\u001b[38;5;124m\"\u001b[39m\u001b[38;5;124mobjective_\u001b[39m\u001b[38;5;132;01m{\u001b[39;00mobj_index\u001b[38;5;132;01m}\u001b[39;00m\u001b[38;5;124m_range\u001b[39m\u001b[38;5;124m\"\u001b[39m][generation_index] \u001b[38;5;241m=\u001b[39m range_func(population)\n",
      "File \u001b[0;32m/gpfs1/home/j/b/jbourde2/lottery-tickets/src/harness/evolution.py:427\u001b[0m, in \u001b[0;36mPopulation.average_sparsity\u001b[0;34m(data, population)\u001b[0m\n\u001b[1;32m    425\u001b[0m \u001b[38;5;28;01mclass\u001b[39;00m \u001b[38;5;21;01mPopulation\u001b[39;00m:\n\u001b[0;32m--> 427\u001b[0m     \u001b[38;5;129m@staticmethod\u001b[39m\n\u001b[1;32m    428\u001b[0m     \u001b[38;5;28;01mdef\u001b[39;00m \u001b[38;5;21maverage_sparsity\u001b[39m(data: Dict, population: List[Individual]):\n\u001b[1;32m    429\u001b[0m         overall_key \u001b[38;5;241m=\u001b[39m \u001b[38;5;124m\"\u001b[39m\u001b[38;5;124maverage_global_sparsity\u001b[39m\u001b[38;5;124m\"\u001b[39m\n\u001b[1;32m    430\u001b[0m         layer_key \u001b[38;5;241m=\u001b[39m \u001b[38;5;124m\"\u001b[39m\u001b[38;5;124maverage_layer_sparsity\u001b[39m\u001b[38;5;124m\"\u001b[39m\n",
      "\u001b[0;31mKeyboardInterrupt\u001b[0m: "
     ]
    }
   ],
   "source": [
    "num_runs = 5\n",
    "\n",
    "architecture = arch.Architecture('lenet', 'mnist')\n",
    "model_features = [\n",
    "    evo.Features.layer_sparsity, \n",
    "    evo.Features.magnitude,\n",
    "    evo.Features.random,\n",
    "]\n",
    "arch_features = [\n",
    "    evo.ArchFeatures.layer_num,\n",
    "    evo.ArchFeatures.layer_ohe,\n",
    "    evo.ArchFeatures.layer_prop_params,\n",
    "]\n",
    "layers = [(4, 'relu')]\n",
    "\n",
    "individual_constructor = functools.partial(\n",
    "    evo.Individual, \n",
    "    architecture=architecture,\n",
    "    model_features=model_features,\n",
    "    arch_features=arch_features,\n",
    "    layers=layers,\n",
    ")\n",
    "\n",
    "objectives = [\n",
    "    (evo.Target.MAXIMIZE, lambda x: 1, evo.Individual.eval_accuracy),\n",
    "    (evo.Target.MINIMIZE, lambda x: 1, evo.Individual.sparsity),\n",
    "]\n",
    "\n",
    "rate_func = lambda n: 0.5\n",
    "scale_func = lambda n: 1 / np.sqrt(n + 1)\n",
    "mutations = [\n",
    "    functools.partial(evo.Individual.get_annealing_mutate(), rate=rate_func, scale=scale_func)\n",
    "]\n",
    "    \n",
    "genome_metric_callbacks = [\n",
    "    evo.Population.average_sparsity\n",
    "]\n",
    "kwargs = {\n",
    "    \"num_generations\": 2,\n",
    "    \"archive_size\": 10,\n",
    "    \"population_size\": 10,\n",
    "    \"fronts_to_consider\": 2,\n",
    "    \"tournament_size\": 4,\n",
    "    \"num_tournament_winners\": 2,\n",
    "    \"individual_constructor\": individual_constructor,\n",
    "    \"objectives\": objectives,\n",
    "    \"mutations\": mutations,\n",
    "    \"crossover\": evo.Individual.crossover,\n",
    "    \"genome_metric_callbacks\": genome_metric_callbacks,\n",
    "}\n",
    "\n",
    "all_genome_metrics = []\n",
    "all_objective_metrics = []\n",
    "all_archives = []\n",
    "for run in range(num_runs):\n",
    "    print(f\"Run {run + 1}\")\n",
    "    genome_metrics, objective_metrics, archive = evo.nsga2(**kwargs)\n",
    "    all_genome_metrics.append(genome_metrics)\n",
    "    all_objective_metrics.append(objective_metrics)\n",
    "    all_archives.append(archive)"
   ]
  },
  {
   "cell_type": "code",
   "execution_count": null,
   "id": "72e0b24e-f346-4537-a083-5d9d89023ffe",
   "metadata": {},
   "outputs": [],
   "source": []
  }
 ],
 "metadata": {
  "kernelspec": {
   "display_name": "lt",
   "language": "python",
   "name": "lt"
  },
  "language_info": {
   "codemirror_mode": {
    "name": "ipython",
    "version": 3
   },
   "file_extension": ".py",
   "mimetype": "text/x-python",
   "name": "python",
   "nbconvert_exporter": "python",
   "pygments_lexer": "ipython3",
   "version": "3.11.9"
  }
 },
 "nbformat": 4,
 "nbformat_minor": 5
}
