{
 "cells": [
  {
   "cell_type": "code",
   "execution_count": 5,
   "metadata": {},
   "outputs": [
    {
     "name": "stdout",
     "output_type": "stream",
     "text": [
      "The tensorboard extension is already loaded. To reload it, use:\n",
      "  %reload_ext tensorboard\n"
     ]
    }
   ],
   "source": [
    "\"\"\"\n",
    "experiments.ipynb\n",
    "\n",
    "File for running lottery ticket experiments.\n",
    "\n",
    "Authors: Jordan Bourdeau, Casey Forey\n",
    "Date Created: 3/8/24\n",
    "\"\"\"\n",
    "%load_ext tensorboard\n",
    "import copy\n",
    "import functools\n",
    "from importlib import reload\n",
    "import tensorflow as tf\n",
    "\n",
    "from src.harness import constants as C\n",
    "from src.harness import experiment\n",
    "from src.harness import history\n",
    "from src.harness import paths\n",
    "from src.harness import pruning\n",
    "from src.harness import rewind\n",
    "from src.harness import training as train\n",
    "from tensorflow.python.client import device_lib "
   ]
  },
  {
   "cell_type": "code",
   "execution_count": 8,
   "metadata": {},
   "outputs": [
    {
     "name": "stdout",
     "output_type": "stream",
     "text": [
      "Num GPUs Available:  0\n",
      "[name: \"/device:CPU:0\"\n",
      "device_type: \"CPU\"\n",
      "memory_limit: 268435456\n",
      "locality {\n",
      "}\n",
      "incarnation: 2527946631643703092\n",
      "xla_global_id: -1\n",
      "]\n"
     ]
    }
   ],
   "source": [
    "print(\"Num GPUs Available: \", len(tf.config.list_physical_devices('GPU')))\n",
    "print(device_lib.list_local_devices())"
   ]
  },
  {
   "cell_type": "markdown",
   "metadata": {},
   "source": [
    "## Run Experiments"
   ]
  },
  {
   "cell_type": "code",
   "execution_count": 9,
   "metadata": {},
   "outputs": [
    {
     "name": "stdout",
     "output_type": "stream",
     "text": [
      "Directory 'testing_experiment' already exists.\n",
      "Directory 'models\\model_0\\initial\\weights' already exists.\n",
      "Directory 'models\\model_0\\initial\\masks' already exists.\n",
      "Step 0 of Iterative Magnitude Pruning\n",
      "Epoch 1 Train Loss: 0.231, Train Accuracy: 0.929, Test Loss: 0.145, Test Accuracy: 0.954\n",
      "Epoch 2 Train Loss: 0.105, Train Accuracy: 0.968, Test Loss: 0.142, Test Accuracy: 0.958\n",
      "Epoch 3 Train Loss: 0.074, Train Accuracy: 0.976, Test Loss: 0.133, Test Accuracy: 0.960\n",
      "Epoch 4 Train Loss: 0.063, Train Accuracy: 0.981, Test Loss: 0.114, Test Accuracy: 0.969\n",
      "Epoch 5 Train Loss: 0.057, Train Accuracy: 0.982, Test Loss: 0.121, Test Accuracy: 0.968\n",
      "Epoch 6 Train Loss: 0.050, Train Accuracy: 0.984, Test Loss: 0.113, Test Accuracy: 0.973\n"
     ]
    }
   ],
   "source": [
    "reload(C)\n",
    "reload(experiment)\n",
    "reload(paths)\n",
    "reload(pruning)\n",
    "reload(rewind)\n",
    "reload(train)\n",
    "\n",
    "experiment_directory: str = 'testing_experiment'\n",
    "experiment_summary: history.ExperimentSummary = experiment.run_experiments(\n",
    "    5, \n",
    "    experiment_directory,\n",
    "    functools.partial(experiment.get_mnist_lenet_300_100_experiment_parameters, 0.2, 0.65),\n",
    "    experiment.run_iterative_pruning_experiment,\n",
    ")"
   ]
  }
 ],
 "metadata": {
  "kernelspec": {
   "display_name": "base",
   "language": "python",
   "name": "python3"
  },
  "language_info": {
   "codemirror_mode": {
    "name": "ipython",
    "version": 3
   },
   "file_extension": ".py",
   "mimetype": "text/x-python",
   "name": "python",
   "nbconvert_exporter": "python",
   "pygments_lexer": "ipython3",
   "version": "3.12.3"
  }
 },
 "nbformat": 4,
 "nbformat_minor": 2
}
