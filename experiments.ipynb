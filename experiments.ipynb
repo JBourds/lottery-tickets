{
 "cells": [
  {
   "cell_type": "code",
   "execution_count": 1,
   "metadata": {},
   "outputs": [],
   "source": [
    "\"\"\"\n",
    "experiments.ipynb\n",
    "\n",
    "File for running lottery ticket experiments.\n",
    "\n",
    "Authors: Jordan Bourdeau, Casey Forey\n",
    "Date Created: 3/8/24\n",
    "\"\"\"\n",
    "\n",
    "%load_ext tensorboard\n",
    "import copy\n",
    "import functools\n",
    "from importlib import reload\n",
    "import tensorflow as tf\n",
    "\n",
    "from src.harness import dataset as ds\n",
    "from src.harness import experiment\n",
    "from src.harness import history\n",
    "from src.harness import pruning\n",
    "from src.harness import rewind\n",
    "from src.harness import training as train"
   ]
  },
  {
   "cell_type": "code",
   "execution_count": 2,
   "metadata": {},
   "outputs": [
    {
     "name": "stdout",
     "output_type": "stream",
     "text": [
      "Num GPUs Available:  0\n"
     ]
    }
   ],
   "source": [
    "print(\"Num GPUs Available: \", len(tf.config.list_physical_devices('GPU')))"
   ]
  },
  {
   "cell_type": "markdown",
   "metadata": {},
   "source": [
    "## Run Experiments"
   ]
  },
  {
   "cell_type": "code",
   "execution_count": 3,
   "metadata": {},
   "outputs": [
    {
     "name": "stdout",
     "output_type": "stream",
     "text": [
      "Directory 'testing_experiment' already exists.\n",
      "Directory 'models/model_0/trial0/weights' already exists.\n",
      "WARNING:tensorflow:Compiled the loaded model, but the compiled metrics have yet to be built. `model.compile_metrics` will be empty until you train or evaluate the model.\n",
      "Directory 'models/model_0/trial0/masks' already exists.\n",
      "WARNING:tensorflow:Compiled the loaded model, but the compiled metrics have yet to be built. `model.compile_metrics` will be empty until you train or evaluate the model.\n",
      "WARNING:tensorflow:No training configuration found in the save file, so the model was *not* compiled. Compile it manually.\n"
     ]
    },
    {
     "name": "stderr",
     "output_type": "stream",
     "text": [
      "/Users/jordan/anaconda3/envs/lottery-tickets/lib/python3.11/site-packages/keras/initializers/initializers.py:120: UserWarning: The initializer GlorotNormal is unseeded and being called multiple times, which will return identical values each time (even if the initializer is unseeded). Please update your code to provide a seed to the initializer, or avoid using the same initalizer instance more than once.\n",
      "  warnings.warn(\n"
     ]
    },
    {
     "name": "stdout",
     "output_type": "stream",
     "text": [
      "Step 0 of Iterative Magnitude Pruning\n"
     ]
    },
    {
     "name": "stderr",
     "output_type": "stream",
     "text": [
      "/Users/jordan/anaconda3/envs/lottery-tickets/lib/python3.11/site-packages/numpy/lib/function_base.py:959: VisibleDeprecationWarning: Creating an ndarray from ragged nested sequences (which is a list-or-tuple of lists-or-tuples-or ndarrays with different lengths or shapes) is deprecated. If you meant to do this, you must specify 'dtype=object' when creating the ndarray.\n",
      "  return array(a, order=order, subok=subok, copy=True)\n",
      "2024-04-28 20:30:20.234347: W tensorflow/tsl/platform/profile_utils/cpu_utils.cc:128] Failed to get CPU frequency: 0 Hz\n"
     ]
    },
    {
     "name": "stdout",
     "output_type": "stream",
     "text": [
      "Epoch 1 Train Loss: 0.231, Train Accuracy: 0.930, Test Loss: 0.120, Test Accuracy: 0.964\n",
      "Epoch 2 Train Loss: 0.105, Train Accuracy: 0.968, Test Loss: 0.170, Test Accuracy: 0.955\n",
      "Epoch 3 Train Loss: 0.075, Train Accuracy: 0.976, Test Loss: 0.152, Test Accuracy: 0.957\n",
      "Epoch 4 Train Loss: 0.063, Train Accuracy: 0.980, Test Loss: 0.146, Test Accuracy: 0.962\n",
      "Early stopping initiated\n",
      "Directory 'models/model_0/trial0' already exists.\n",
      "Directory 'models/model_0/trial0/weights' already exists.\n",
      "WARNING:tensorflow:Compiled the loaded model, but the compiled metrics have yet to be built. `model.compile_metrics` will be empty until you train or evaluate the model.\n",
      "Directory 'models/model_0/trial0/masks' already exists.\n",
      "WARNING:tensorflow:Compiled the loaded model, but the compiled metrics have yet to be built. `model.compile_metrics` will be empty until you train or evaluate the model.\n",
      "\n",
      "Took 4 / 60 epochs\n",
      "Ended with a best training accuracy of 97.98% and test accuracy of training accuracy of 96.44%\n",
      "WARNING:tensorflow:No training configuration found in the save file, so the model was *not* compiled. Compile it manually.\n",
      "Step 1 of Iterative Magnitude Pruning\n",
      "Epoch 1 Train Loss: 0.223, Train Accuracy: 0.934, Test Loss: 0.129, Test Accuracy: 0.960\n",
      "Epoch 2 Train Loss: 0.091, Train Accuracy: 0.972, Test Loss: 0.110, Test Accuracy: 0.967\n",
      "Epoch 3 Train Loss: 0.061, Train Accuracy: 0.980, Test Loss: 0.168, Test Accuracy: 0.953\n",
      "Epoch 4 Train Loss: 0.046, Train Accuracy: 0.985, Test Loss: 0.101, Test Accuracy: 0.972\n",
      "Epoch 5 Train Loss: 0.044, Train Accuracy: 0.986, Test Loss: 0.092, Test Accuracy: 0.976\n",
      "Early stopping initiated\n",
      "Directory 'models/model_0/trial1' already exists.\n",
      "Directory 'models/model_0/trial1/weights' already exists.\n",
      "WARNING:tensorflow:Compiled the loaded model, but the compiled metrics have yet to be built. `model.compile_metrics` will be empty until you train or evaluate the model.\n",
      "Directory 'models/model_0/trial1/masks' already exists.\n",
      "WARNING:tensorflow:Compiled the loaded model, but the compiled metrics have yet to be built. `model.compile_metrics` will be empty until you train or evaluate the model.\n",
      "\n",
      "Took 5 / 60 epochs\n",
      "Ended with a best training accuracy of 98.55% and test accuracy of training accuracy of 97.56%\n",
      "WARNING:tensorflow:No training configuration found in the save file, so the model was *not* compiled. Compile it manually.\n",
      "Step 2 of Iterative Magnitude Pruning\n",
      "Epoch 1 Train Loss: 0.211, Train Accuracy: 0.939, Test Loss: 0.129, Test Accuracy: 0.959\n",
      "Epoch 2 Train Loss: 0.084, Train Accuracy: 0.974, Test Loss: 0.118, Test Accuracy: 0.965\n",
      "Epoch 3 Train Loss: 0.054, Train Accuracy: 0.983, Test Loss: 0.101, Test Accuracy: 0.973\n",
      "Epoch 4 Train Loss: 0.040, Train Accuracy: 0.987, Test Loss: 0.093, Test Accuracy: 0.976\n",
      "Epoch 5 Train Loss: 0.037, Train Accuracy: 0.988, Test Loss: 0.105, Test Accuracy: 0.973\n",
      "Epoch 6 Train Loss: 0.036, Train Accuracy: 0.988, Test Loss: 0.102, Test Accuracy: 0.976\n",
      "Epoch 7 Train Loss: 0.029, Train Accuracy: 0.990, Test Loss: 0.112, Test Accuracy: 0.975\n",
      "Epoch 8 Train Loss: 0.026, Train Accuracy: 0.992, Test Loss: 0.107, Test Accuracy: 0.976\n",
      "Epoch 9 Train Loss: 0.030, Train Accuracy: 0.990, Test Loss: 0.129, Test Accuracy: 0.973\n",
      "Early stopping initiated\n",
      "Directory 'models/model_0/trial2' already exists.\n",
      "Directory 'models/model_0/trial2/weights' already exists.\n",
      "WARNING:tensorflow:Compiled the loaded model, but the compiled metrics have yet to be built. `model.compile_metrics` will be empty until you train or evaluate the model.\n",
      "Directory 'models/model_0/trial2/masks' already exists.\n",
      "WARNING:tensorflow:Compiled the loaded model, but the compiled metrics have yet to be built. `model.compile_metrics` will be empty until you train or evaluate the model.\n",
      "\n",
      "Took 9 / 60 epochs\n",
      "Ended with a best training accuracy of 99.16% and test accuracy of training accuracy of 97.64%\n",
      "Directory 'models/model_1/trial0/weights' already exists.\n",
      "WARNING:tensorflow:Compiled the loaded model, but the compiled metrics have yet to be built. `model.compile_metrics` will be empty until you train or evaluate the model.\n",
      "Directory 'models/model_1/trial0/masks' already exists.\n",
      "WARNING:tensorflow:Compiled the loaded model, but the compiled metrics have yet to be built. `model.compile_metrics` will be empty until you train or evaluate the model.\n",
      "WARNING:tensorflow:No training configuration found in the save file, so the model was *not* compiled. Compile it manually.\n",
      "Step 0 of Iterative Magnitude Pruning\n",
      "Epoch 1 Train Loss: 0.231, Train Accuracy: 0.930, Test Loss: 0.120, Test Accuracy: 0.964\n",
      "Epoch 2 Train Loss: 0.105, Train Accuracy: 0.968, Test Loss: 0.170, Test Accuracy: 0.955\n",
      "Epoch 3 Train Loss: 0.075, Train Accuracy: 0.976, Test Loss: 0.152, Test Accuracy: 0.957\n",
      "Epoch 4 Train Loss: 0.063, Train Accuracy: 0.980, Test Loss: 0.146, Test Accuracy: 0.962\n",
      "Early stopping initiated\n",
      "Directory 'models/model_1/trial0' already exists.\n",
      "Directory 'models/model_1/trial0/weights' already exists.\n",
      "WARNING:tensorflow:Compiled the loaded model, but the compiled metrics have yet to be built. `model.compile_metrics` will be empty until you train or evaluate the model.\n",
      "Directory 'models/model_1/trial0/masks' already exists.\n",
      "WARNING:tensorflow:Compiled the loaded model, but the compiled metrics have yet to be built. `model.compile_metrics` will be empty until you train or evaluate the model.\n",
      "\n",
      "Took 4 / 60 epochs\n",
      "Ended with a best training accuracy of 97.98% and test accuracy of training accuracy of 96.44%\n",
      "WARNING:tensorflow:No training configuration found in the save file, so the model was *not* compiled. Compile it manually.\n",
      "Step 1 of Iterative Magnitude Pruning\n",
      "Epoch 1 Train Loss: 0.223, Train Accuracy: 0.934, Test Loss: 0.129, Test Accuracy: 0.960\n",
      "Epoch 2 Train Loss: 0.091, Train Accuracy: 0.972, Test Loss: 0.110, Test Accuracy: 0.967\n",
      "Epoch 3 Train Loss: 0.061, Train Accuracy: 0.980, Test Loss: 0.168, Test Accuracy: 0.953\n",
      "Epoch 4 Train Loss: 0.046, Train Accuracy: 0.985, Test Loss: 0.101, Test Accuracy: 0.972\n",
      "Epoch 5 Train Loss: 0.044, Train Accuracy: 0.986, Test Loss: 0.092, Test Accuracy: 0.976\n",
      "Early stopping initiated\n",
      "Directory 'models/model_1/trial1' already exists.\n",
      "Directory 'models/model_1/trial1/weights' already exists.\n",
      "WARNING:tensorflow:Compiled the loaded model, but the compiled metrics have yet to be built. `model.compile_metrics` will be empty until you train or evaluate the model.\n",
      "Directory 'models/model_1/trial1/masks' already exists.\n",
      "WARNING:tensorflow:Compiled the loaded model, but the compiled metrics have yet to be built. `model.compile_metrics` will be empty until you train or evaluate the model.\n",
      "\n",
      "Took 5 / 60 epochs\n",
      "Ended with a best training accuracy of 98.55% and test accuracy of training accuracy of 97.56%\n",
      "WARNING:tensorflow:No training configuration found in the save file, so the model was *not* compiled. Compile it manually.\n",
      "Step 2 of Iterative Magnitude Pruning\n",
      "Epoch 1 Train Loss: 0.211, Train Accuracy: 0.939, Test Loss: 0.129, Test Accuracy: 0.959\n",
      "Epoch 2 Train Loss: 0.084, Train Accuracy: 0.974, Test Loss: 0.118, Test Accuracy: 0.965\n",
      "Epoch 3 Train Loss: 0.054, Train Accuracy: 0.983, Test Loss: 0.101, Test Accuracy: 0.973\n",
      "Epoch 4 Train Loss: 0.040, Train Accuracy: 0.987, Test Loss: 0.093, Test Accuracy: 0.976\n",
      "Epoch 5 Train Loss: 0.037, Train Accuracy: 0.988, Test Loss: 0.105, Test Accuracy: 0.973\n",
      "Epoch 6 Train Loss: 0.036, Train Accuracy: 0.988, Test Loss: 0.102, Test Accuracy: 0.976\n",
      "Epoch 7 Train Loss: 0.029, Train Accuracy: 0.990, Test Loss: 0.112, Test Accuracy: 0.975\n",
      "Epoch 8 Train Loss: 0.026, Train Accuracy: 0.992, Test Loss: 0.107, Test Accuracy: 0.976\n",
      "Epoch 9 Train Loss: 0.030, Train Accuracy: 0.990, Test Loss: 0.129, Test Accuracy: 0.973\n",
      "Early stopping initiated\n",
      "Directory 'models/model_1/trial2' already exists.\n",
      "Directory 'models/model_1/trial2/weights' already exists.\n",
      "WARNING:tensorflow:Compiled the loaded model, but the compiled metrics have yet to be built. `model.compile_metrics` will be empty until you train or evaluate the model.\n",
      "Directory 'models/model_1/trial2/masks' already exists.\n",
      "WARNING:tensorflow:Compiled the loaded model, but the compiled metrics have yet to be built. `model.compile_metrics` will be empty until you train or evaluate the model.\n",
      "\n",
      "Took 9 / 60 epochs\n",
      "Ended with a best training accuracy of 99.16% and test accuracy of training accuracy of 97.64%\n",
      "Directory 'testing_experiment' already exists.\n"
     ]
    }
   ],
   "source": [
    "reload(ds)\n",
    "reload(experiment)\n",
    "reload(pruning)\n",
    "reload(rewind)\n",
    "reload(train)\n",
    "\n",
    "experiment_directory: str = 'testing_experiment'\n",
    "experiment_summary: history.ExperimentSummary = experiment.run_experiments(\n",
    "    2, \n",
    "    experiment_directory,\n",
    "    functools.partial(experiment.get_lenet_300_100_experiment_parameters, ds.Datasets.MNIST, 0.2, 0.65),\n",
    "    experiment.run_iterative_pruning_experiment,\n",
    ")"
   ]
  }
 ],
 "metadata": {
  "kernelspec": {
   "display_name": "base",
   "language": "python",
   "name": "python3"
  },
  "language_info": {
   "codemirror_mode": {
    "name": "ipython",
    "version": 3
   },
   "file_extension": ".py",
   "mimetype": "text/x-python",
   "name": "python",
   "nbconvert_exporter": "python",
   "pygments_lexer": "ipython3",
   "version": "3.11.5"
  }
 },
 "nbformat": 4,
 "nbformat_minor": 2
}
