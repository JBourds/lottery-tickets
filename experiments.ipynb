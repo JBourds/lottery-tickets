{
 "cells": [
  {
   "cell_type": "code",
   "execution_count": null,
   "metadata": {},
   "outputs": [],
   "source": [
    "\"\"\"\n",
    "experiments.ipynb\n",
    "\n",
    "File for running lottery ticket experiments.\n",
    "\n",
    "Authors: Jordan Bourdeau, Casey Forey\n",
    "Date Created: 3/8/24\n",
    "\"\"\"\n",
    "%load_ext tensorboard\n",
    "import copy\n",
    "import functools\n",
    "from importlib import reload\n",
    "import tensorflow as tf\n",
    "\n",
    "from src.harness import dataset as ds\n",
    "from src.harness import experiment\n",
    "from src.harness import history\n",
    "from src.harness import paths\n",
    "from src.harness import pruning\n",
    "from src.harness import rewind\n",
    "from src.harness import training as train\n",
    "from tensorflow.python.client import device_lib "
   ]
  },
  {
   "cell_type": "code",
   "execution_count": null,
   "metadata": {},
   "outputs": [],
   "source": [
    "print(\"Num GPUs Available: \", len(tf.config.list_physical_devices('GPU')))\n",
    "print(device_lib.list_local_devices())"
   ]
  },
  {
   "cell_type": "markdown",
   "metadata": {},
   "source": [
    "## Run Experiments"
   ]
  },
  {
   "cell_type": "code",
   "execution_count": null,
   "metadata": {},
   "outputs": [],
   "source": [
    "reload(ds)\n",
    "reload(experiment)\n",
    "reload(paths)\n",
    "reload(pruning)\n",
    "reload(rewind)\n",
    "reload(train)\n",
    "\n",
    "experiment_directory: str = 'testing_experiment'\n",
    "experiment_summary: history.ExperimentSummary = experiment.run_experiments(\n",
    "    starting_seed=0,\n",
    "    num_experiments=1, \n",
    "    experiment_directory=experiment_directory,\n",
    "    get_experiment_parameters=functools.partial(experiment.get_lenet_300_100_experiment_parameters, ds.Datasets.MNIST, 0.2, 0.65),\n",
    "    experiment=experiment.run_iterative_pruning_experiment,\n",
    ")"
   ]
  },
  {
   "cell_type": "code",
   "execution_count": null,
   "metadata": {},
   "outputs": [],
   "source": [
    "for experiment in experiment_summary.experiments.values():\n",
    "    for round in experiment.pruning_rounds:\n",
    "        print(round)"
   ]
  }
 ],
 "metadata": {
  "kernelspec": {
   "display_name": "base",
   "language": "python",
   "name": "python3"
  },
  "language_info": {
   "codemirror_mode": {
    "name": "ipython",
    "version": 3
   },
   "file_extension": ".py",
   "mimetype": "text/x-python",
   "name": "python",
   "nbconvert_exporter": "python",
   "pygments_lexer": "ipython3",
   "version": "3.11.5"
  }
 },
 "nbformat": 4,
 "nbformat_minor": 2
}
