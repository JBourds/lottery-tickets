{
 "cells": [
  {
   "cell_type": "code",
   "execution_count": 43,
   "metadata": {},
   "outputs": [
    {
     "name": "stdout",
     "output_type": "stream",
     "text": [
      "The tensorboard extension is already loaded. To reload it, use:\n",
      "  %reload_ext tensorboard\n"
     ]
    }
   ],
   "source": [
    "\"\"\"\n",
    "experiments.ipynb\n",
    "\n",
    "File for running lottery ticket experiments.\n",
    "\n",
    "Authors: Jordan Bourdeau, Casey Forey\n",
    "Date Created: 3/8/24\n",
    "\"\"\"\n",
    "%load_ext tensorboard\n",
    "import copy\n",
    "import functools\n",
    "from importlib import reload\n",
    "import tensorflow as tf\n",
    "\n",
    "from src.harness import constants as C\n",
    "from src.harness import experiment\n",
    "from src.harness import history\n",
    "from src.harness import paths\n",
    "from src.harness import pruning\n",
    "from src.harness import rewind\n",
    "from src.harness import training as train"
   ]
  },
  {
   "cell_type": "code",
   "execution_count": 2,
   "metadata": {},
   "outputs": [
    {
     "name": "stdout",
     "output_type": "stream",
     "text": [
      "Num GPUs Available:  0\n"
     ]
    }
   ],
   "source": [
    "print(\"Num GPUs Available: \", len(tf.config.list_physical_devices('GPU')))"
   ]
  },
  {
   "cell_type": "markdown",
   "metadata": {},
   "source": [
    "## Run Experiments"
   ]
  },
  {
   "cell_type": "code",
   "execution_count": 45,
   "metadata": {},
   "outputs": [
    {
     "name": "stdout",
     "output_type": "stream",
     "text": [
      "what the fuck\n",
      "Directory 'testing_experiment' already exists.\n",
      "what the fuck\n",
      "Directory 'models\\model_0\\trial0\\weights' already exists.\n"
     ]
    },
    {
     "ename": "FileNotFoundError",
     "evalue": "[Errno 2] No such file or directory: 'models\\\\model_0\\\\initial\\\\weights\\\\model.keras'",
     "output_type": "error",
     "traceback": [
      "\u001b[1;31m---------------------------------------------------------------------------\u001b[0m",
      "\u001b[1;31mFileNotFoundError\u001b[0m                         Traceback (most recent call last)",
      "Cell \u001b[1;32mIn[45], line 9\u001b[0m\n\u001b[0;32m      6\u001b[0m reload(train)\n\u001b[0;32m      8\u001b[0m experiment_directory: \u001b[38;5;28mstr\u001b[39m \u001b[38;5;241m=\u001b[39m \u001b[38;5;124m'\u001b[39m\u001b[38;5;124mtesting_experiment\u001b[39m\u001b[38;5;124m'\u001b[39m\n\u001b[1;32m----> 9\u001b[0m experiment_summary: history\u001b[38;5;241m.\u001b[39mExperimentSummary \u001b[38;5;241m=\u001b[39m experiment\u001b[38;5;241m.\u001b[39mrun_experiments(\n\u001b[0;32m     10\u001b[0m     \u001b[38;5;241m5\u001b[39m, \n\u001b[0;32m     11\u001b[0m     experiment_directory,\n\u001b[0;32m     12\u001b[0m     functools\u001b[38;5;241m.\u001b[39mpartial(experiment\u001b[38;5;241m.\u001b[39mget_mnist_lenet_300_100_experiment_parameters, \u001b[38;5;241m0.2\u001b[39m, \u001b[38;5;241m0.65\u001b[39m),\n\u001b[0;32m     13\u001b[0m     experiment\u001b[38;5;241m.\u001b[39mrun_iterative_pruning_experiment,\n\u001b[0;32m     14\u001b[0m )\n",
      "File \u001b[1;32mc:\\Users\\Casey\\OneDrive\\Documents\\Classes Spring 2024\\Machine Learning\\Final Project\\lottery-tickets\\src\\harness\\experiment.py:78\u001b[0m, in \u001b[0;36mrun_experiments\u001b[1;34m(num_experiments, experiment_directory, get_experiment_parameters, experiment)\u001b[0m\n\u001b[0;32m     76\u001b[0m \u001b[38;5;66;03m# For each experiment, use a different random seed and keep track of all the data produced\u001b[39;00m\n\u001b[0;32m     77\u001b[0m \u001b[38;5;28;01mfor\u001b[39;00m seed \u001b[38;5;129;01min\u001b[39;00m \u001b[38;5;28mrange\u001b[39m(num_experiments):\n\u001b[1;32m---> 78\u001b[0m     experiment_data: history\u001b[38;5;241m.\u001b[39mExperimentData \u001b[38;5;241m=\u001b[39m experiment(\n\u001b[0;32m     79\u001b[0m         seed,\n\u001b[0;32m     80\u001b[0m         \u001b[38;5;241m*\u001b[39mget_experiment_parameters()\n\u001b[0;32m     81\u001b[0m     )\n\u001b[0;32m     82\u001b[0m     experiment_summary\u001b[38;5;241m.\u001b[39madd_experiment(seed, experiment_data)\n\u001b[0;32m     83\u001b[0m \u001b[38;5;66;03m# Save pickled experiment summary\u001b[39;00m\n",
      "File \u001b[1;32mc:\\Users\\Casey\\OneDrive\\Documents\\Classes Spring 2024\\Machine Learning\\Final Project\\lottery-tickets\\src\\harness\\experiment.py:158\u001b[0m, in \u001b[0;36mrun_iterative_pruning_experiment\u001b[1;34m(random_seed, create_model, dataset, sparsities, pruning_rule, rewind_rule, loss_function, optimizer, global_pruning, num_epochs, batch_size, patience, minimum_delta, allow_early_stopping, verbose)\u001b[0m\n\u001b[0;32m    155\u001b[0m mask_model: keras\u001b[38;5;241m.\u001b[39mModel \u001b[38;5;241m=\u001b[39m mod\u001b[38;5;241m.\u001b[39mcreate_masked_nn(create_model)  \n\u001b[0;32m    157\u001b[0m \u001b[38;5;66;03m# TODO: Windows error here\u001b[39;00m\n\u001b[1;32m--> 158\u001b[0m mod\u001b[38;5;241m.\u001b[39msave_model(model, random_seed, \u001b[38;5;241m0\u001b[39m, initial\u001b[38;5;241m=\u001b[39m\u001b[38;5;28;01mTrue\u001b[39;00m)\n\u001b[0;32m    159\u001b[0m mod\u001b[38;5;241m.\u001b[39msave_model(mask_model, random_seed, \u001b[38;5;241m0\u001b[39m, masks\u001b[38;5;241m=\u001b[39m\u001b[38;5;28;01mTrue\u001b[39;00m, initial\u001b[38;5;241m=\u001b[39m\u001b[38;5;28;01mTrue\u001b[39;00m)\n\u001b[0;32m    161\u001b[0m \u001b[38;5;28;01mfor\u001b[39;00m pruning_step, sparsity \u001b[38;5;129;01min\u001b[39;00m \u001b[38;5;28menumerate\u001b[39m(sparsities):\n\u001b[0;32m    162\u001b[0m     \u001b[38;5;66;03m# Prune the model to the new sparsity\u001b[39;00m\n",
      "File \u001b[1;32mc:\\Users\\Casey\\OneDrive\\Documents\\Classes Spring 2024\\Machine Learning\\Final Project\\lottery-tickets\\src\\harness\\model.py:50\u001b[0m, in \u001b[0;36msave_model\u001b[1;34m(model, seed, pruning_step, masks, initial)\u001b[0m\n\u001b[0;32m     47\u001b[0m filepath: \u001b[38;5;28mstr\u001b[39m \u001b[38;5;241m=\u001b[39m paths\u001b[38;5;241m.\u001b[39mget_model_filepath(seed, pruning_step, masks, initial)\n\u001b[0;32m     49\u001b[0m \u001b[38;5;66;03m# Save the initial weights in an 'initial' directory in the top-level of the model directory\u001b[39;00m\n\u001b[1;32m---> 50\u001b[0m model\u001b[38;5;241m.\u001b[39msave(filepath, overwrite\u001b[38;5;241m=\u001b[39m\u001b[38;5;28;01mTrue\u001b[39;00m)\n",
      "File \u001b[1;32mc:\\Users\\Casey\\anaconda3\\envs\\machine_learning_final\\Lib\\site-packages\\keras\\src\\utils\\traceback_utils.py:122\u001b[0m, in \u001b[0;36mfilter_traceback.<locals>.error_handler\u001b[1;34m(*args, **kwargs)\u001b[0m\n\u001b[0;32m    119\u001b[0m     filtered_tb \u001b[38;5;241m=\u001b[39m _process_traceback_frames(e\u001b[38;5;241m.\u001b[39m__traceback__)\n\u001b[0;32m    120\u001b[0m     \u001b[38;5;66;03m# To get the full stack trace, call:\u001b[39;00m\n\u001b[0;32m    121\u001b[0m     \u001b[38;5;66;03m# `keras.config.disable_traceback_filtering()`\u001b[39;00m\n\u001b[1;32m--> 122\u001b[0m     \u001b[38;5;28;01mraise\u001b[39;00m e\u001b[38;5;241m.\u001b[39mwith_traceback(filtered_tb) \u001b[38;5;28;01mfrom\u001b[39;00m \u001b[38;5;28;01mNone\u001b[39;00m\n\u001b[0;32m    123\u001b[0m \u001b[38;5;28;01mfinally\u001b[39;00m:\n\u001b[0;32m    124\u001b[0m     \u001b[38;5;28;01mdel\u001b[39;00m filtered_tb\n",
      "File \u001b[1;32mc:\\Users\\Casey\\anaconda3\\envs\\machine_learning_final\\Lib\\zipfile\\__init__.py:1331\u001b[0m, in \u001b[0;36mZipFile.__init__\u001b[1;34m(self, file, mode, compression, allowZip64, compresslevel, strict_timestamps, metadata_encoding)\u001b[0m\n\u001b[0;32m   1329\u001b[0m \u001b[38;5;28;01mwhile\u001b[39;00m \u001b[38;5;28;01mTrue\u001b[39;00m:\n\u001b[0;32m   1330\u001b[0m     \u001b[38;5;28;01mtry\u001b[39;00m:\n\u001b[1;32m-> 1331\u001b[0m         \u001b[38;5;28mself\u001b[39m\u001b[38;5;241m.\u001b[39mfp \u001b[38;5;241m=\u001b[39m io\u001b[38;5;241m.\u001b[39mopen(file, filemode)\n\u001b[0;32m   1332\u001b[0m     \u001b[38;5;28;01mexcept\u001b[39;00m \u001b[38;5;167;01mOSError\u001b[39;00m:\n\u001b[0;32m   1333\u001b[0m         \u001b[38;5;28;01mif\u001b[39;00m filemode \u001b[38;5;129;01min\u001b[39;00m modeDict:\n",
      "\u001b[1;31mFileNotFoundError\u001b[0m: [Errno 2] No such file or directory: 'models\\\\model_0\\\\initial\\\\weights\\\\model.keras'"
     ]
    }
   ],
   "source": [
    "reload(C)\n",
    "reload(experiment)\n",
    "reload(paths)\n",
    "reload(pruning)\n",
    "reload(rewind)\n",
    "reload(train)\n",
    "\n",
    "experiment_directory: str = 'testing_experiment'\n",
    "experiment_summary: history.ExperimentSummary = experiment.run_experiments(\n",
    "    5, \n",
    "    experiment_directory,\n",
    "    functools.partial(experiment.get_mnist_lenet_300_100_experiment_parameters, 0.2, 0.65),\n",
    "    experiment.run_iterative_pruning_experiment,\n",
    ")"
   ]
  }
 ],
 "metadata": {
  "kernelspec": {
   "display_name": "base",
   "language": "python",
   "name": "python3"
  },
  "language_info": {
   "codemirror_mode": {
    "name": "ipython",
    "version": 3
   },
   "file_extension": ".py",
   "mimetype": "text/x-python",
   "name": "python",
   "nbconvert_exporter": "python",
   "pygments_lexer": "ipython3",
   "version": "3.12.3"
  }
 },
 "nbformat": 4,
 "nbformat_minor": 2
}
