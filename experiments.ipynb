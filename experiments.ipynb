{
 "cells": [
  {
   "cell_type": "code",
   "execution_count": null,
   "metadata": {},
   "outputs": [],
   "source": [
    "\"\"\"\n",
    "experiments.ipynb\n",
    "\n",
    "File for running lottery ticket experiments.\n",
    "\n",
    "Authors: Jordan Bourdeau, Casey Forey\n",
    "Date Created: 3/8/24\n",
    "\"\"\"\n",
    "\n",
    "from importlib import reload\n",
    "import os\n",
    "import tensorflow as tf\n",
    "from tensorflow.python.client import device_lib \n",
    "\n",
    "from src.experiment_scripts.lenet_300_100_iterative_magnitude_pruning import get_lenet_300_100_experiment_parameters\n",
    "from src.harness import constants as C\n",
    "from src.harness import dataset as ds\n",
    "from src.harness import experiment\n",
    "from src.harness import history\n",
    "from src.harness import model as mod\n",
    "from src.harness import paths\n",
    "from src.harness import pruning\n",
    "from src.harness import rewind\n",
    "from src.harness import training as train"
   ]
  },
  {
   "cell_type": "code",
   "execution_count": null,
   "metadata": {},
   "outputs": [],
   "source": [
    "print(\"Num CPUs Available: \", len(tf.config.list_physical_devices('CPU')))\n",
    "print(\"Num CPU Cores Available: \", os.cpu_count())\n",
    "print(\"Num GPUs Available: \", len(tf.config.list_physical_devices('GPU')))\n",
    "print(device_lib.list_local_devices())"
   ]
  },
  {
   "cell_type": "markdown",
   "metadata": {},
   "source": [
    "## Run Experiments"
   ]
  },
  {
   "cell_type": "code",
   "execution_count": null,
   "metadata": {},
   "outputs": [],
   "source": [
    "reload(ds)\n",
    "reload(experiment)\n",
    "reload(paths)\n",
    "reload(pruning)\n",
    "reload(rewind)\n",
    "reload(train)\n",
    "\n",
    "experiment_directory: str = os.path.join(C.EXPERIMENTS_DIRECTORY, 'testing_experiment')\n",
    "get_experiment_parameters: callable = get_lenet_300_100_experiment_parameters(ds.Datasets.MNIST, 0.2, 0.05, False)\n",
    "\n",
    "experiment_summary: history.ExperimentSummary = experiment.run_experiments(\n",
    "    starting_seed=0,\n",
    "    num_experiments=8, \n",
    "    experiment_directory=experiment_directory,\n",
    "    experiment=experiment.run_iterative_pruning_experiment,\n",
    "    get_experiment_parameters=get_experiment_parameters,\n",
    "    max_processes=os.cpu_count(),\n",
    ")"
   ]
  },
  {
   "cell_type": "code",
   "execution_count": null,
   "metadata": {},
   "outputs": [],
   "source": [
    "# Sanity Check\n",
    "initial_model = mod.load_model(0, 1, directory=experiment_directory)\n",
    "for experiment in experiment_summary.experiments.values():\n",
    "    for round in experiment.pruning_rounds:\n",
    "        print('Initial Weights:')\n",
    "        print(initial_model.get_weights()[4][0])\n",
    "        print('Initial Round Weights:')\n",
    "        print(round.initial_weights[4][0])\n",
    "        print('Final Round Weights:')\n",
    "        print(round.final_weights[4][0])\n",
    "        print('Round Masks:')\n",
    "        print(round.masks[4][0])\n",
    "        print()\n",
    "        "
   ]
  }
 ],
 "metadata": {
  "kernelspec": {
   "display_name": "base",
   "language": "python",
   "name": "python3"
  },
  "language_info": {
   "codemirror_mode": {
    "name": "ipython",
    "version": 3
   },
   "file_extension": ".py",
   "mimetype": "text/x-python",
   "name": "python",
   "nbconvert_exporter": "python",
   "pygments_lexer": "ipython3",
   "version": "3.11.5"
  }
 },
 "nbformat": 4,
 "nbformat_minor": 2
}
